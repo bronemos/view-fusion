{
 "cells": [
  {
   "cell_type": "markdown",
   "metadata": {},
   "source": [
    "## Imports"
   ]
  },
  {
   "cell_type": "code",
   "execution_count": 1,
   "metadata": {},
   "outputs": [],
   "source": [
    "import argparse\n",
    "import os\n",
    "import yaml\n",
    "import time\n",
    "import datetime\n",
    "\n",
    "from pathlib import Path\n",
    "\n",
    "import numpy as np\n",
    "import torch\n",
    "import torch.optim as optim\n",
    "import webdataset as wds\n",
    "from torch.nn.parallel import DistributedDataParallel\n",
    "from torchvision.utils import make_grid, save_image\n",
    "from einops import rearrange\n",
    "from cleanfid import fid\n",
    "\n",
    "from utils.checkpoint import Checkpoint\n",
    "from utils.metrics import compute_ssim, compute_psnr\n",
    "from utils.dist import init_ddp, worker_init_fn, reduce_dict\n",
    "from utils.schedulers import LrScheduler\n",
    "from data.dataset import (\n",
    "    create_webdataset,\n",
    "    create_webdataset_metzler,\n",
    ")\n",
    "from model.palette import PaletteViewSynthesis\n",
    "from model.unet import UNet"
   ]
  },
  {
   "cell_type": "code",
   "execution_count": null,
   "metadata": {},
   "outputs": [],
   "source": []
  }
 ],
 "metadata": {
  "kernelspec": {
   "display_name": "ldm",
   "language": "python",
   "name": "python3"
  },
  "language_info": {
   "codemirror_mode": {
    "name": "ipython",
    "version": 3
   },
   "file_extension": ".py",
   "mimetype": "text/x-python",
   "name": "python",
   "nbconvert_exporter": "python",
   "pygments_lexer": "ipython3",
   "version": "3.8.5"
  }
 },
 "nbformat": 4,
 "nbformat_minor": 2
}
