{
 "cells": [
  {
   "cell_type": "markdown",
   "metadata": {},
   "source": [
    "## ViewFusion - Inference Demo\n",
    "---\n",
    "### Imports"
   ]
  },
  {
   "cell_type": "code",
   "execution_count": 2,
   "metadata": {},
   "outputs": [],
   "source": [
    "import torch\n",
    "\n",
    "from experiment import Experiment"
   ]
  },
  {
   "cell_type": "markdown",
   "metadata": {},
   "source": [
    "### Initialize Experiment"
   ]
  },
  {
   "cell_type": "code",
   "execution_count": null,
   "metadata": {},
   "outputs": [
    {
     "ename": "",
     "evalue": "",
     "output_type": "error",
     "traceback": [
      "\u001b[1;31mRunning cells with 'view-fusion' requires the ipykernel package.\n",
      "\u001b[1;31mRun the following command to install 'ipykernel' into the Python environment. \n",
      "\u001b[1;31mCommand: 'conda install -n view-fusion ipykernel --update-deps --force-reinstall'"
     ]
    }
   ],
   "source": [
    "experiment_instance = Experiment()"
   ]
  },
  {
   "cell_type": "markdown",
   "metadata": {},
   "source": [
    "### Inference Experiments\n",
    "#### View Count Extrapolation"
   ]
  },
  {
   "cell_type": "code",
   "execution_count": null,
   "metadata": {},
   "outputs": [
    {
     "ename": "",
     "evalue": "",
     "output_type": "error",
     "traceback": [
      "\u001b[1;31mRunning cells with 'view-fusion' requires the ipykernel package.\n",
      "\u001b[1;31mRun the following command to install 'ipykernel' into the Python environment. \n",
      "\u001b[1;31mCommand: 'conda install -n view-fusion ipykernel --update-deps --force-reinstall'"
     ]
    }
   ],
   "source": [
    "target = val_vis_data[\"target\"].to(device)\n",
    "cond = val_vis_data[\"cond\"].to(device)\n",
    "view_count = torch.randint(max_views + 1, 24, (target.shape[0],)).to(device)\n",
    "angle = val_vis_data[\"angle\"].to(device)\n",
    "\n",
    "with torch.no_grad():\n",
    "    _, generated_batch, logit_arr, weight_arr, _ = model(\n",
    "        y_cond=cond,\n",
    "        view_count=view_count,\n",
    "        angle=angle,\n",
    "        generate=True,\n",
    "    )\n",
    "\n",
    "cond_padded = torch.nn.utils.rnn.pad_sequence(\n",
    "    [cond[i, :view_idx] for i, view_idx in enumerate(view_count)],\n",
    "    batch_first=True,\n",
    ")\n",
    "\n",
    "output = torch.cat(\n",
    "    (\n",
    "        torch.clamp(generated_batch, 0, 1),\n",
    "        torch.unsqueeze(target, 1),\n",
    "        cond_padded,\n",
    "    ),\n",
    "    dim=1,\n",
    ")"
   ]
  },
  {
   "cell_type": "markdown",
   "metadata": {},
   "source": [
    "#### Generation Animation - GIF"
   ]
  },
  {
   "cell_type": "code",
   "execution_count": null,
   "metadata": {},
   "outputs": [],
   "source": []
  },
  {
   "cell_type": "markdown",
   "metadata": {},
   "source": [
    "#### Generating Plausible Views"
   ]
  },
  {
   "cell_type": "code",
   "execution_count": null,
   "metadata": {},
   "outputs": [],
   "source": []
  },
  {
   "cell_type": "markdown",
   "metadata": {},
   "source": [
    "#### Autoregressive Generation - GIF"
   ]
  },
  {
   "cell_type": "code",
   "execution_count": null,
   "metadata": {},
   "outputs": [],
   "source": []
  }
 ],
 "metadata": {
  "kernelspec": {
   "display_name": "view-fusion",
   "language": "python",
   "name": "python3"
  },
  "language_info": {
   "codemirror_mode": {
    "name": "ipython",
    "version": 3
   },
   "file_extension": ".py",
   "mimetype": "text/x-python",
   "name": "python",
   "nbconvert_exporter": "python",
   "pygments_lexer": "ipython3",
   "version": "3.11.7"
  }
 },
 "nbformat": 4,
 "nbformat_minor": 2
}
